{
 "cells": [
  {
   "cell_type": "code",
   "execution_count": 1,
   "metadata": {},
   "outputs": [],
   "source": [
    "import numpy as np"
   ]
  },
  {
   "cell_type": "code",
   "execution_count": 2,
   "metadata": {},
   "outputs": [],
   "source": [
    "def calculate(list1):\n",
    "    try:\n",
    "        array0 = np.array(list1)\n",
    "        array = array0.reshape((3,3))\n",
    "        \n",
    "        means_list = list()\n",
    "        variance_list = list()\n",
    "        std_list = list()\n",
    "        max_list = list()\n",
    "        min_list = list()\n",
    "        sum_list = list()\n",
    "\n",
    "        dictionary = {'mean':means_list, 'variance':variance_list,\n",
    "                'standard deviation':std_list, 'max':max_list, 'min':min_list, 'sum':sum_list}\n",
    "\n",
    "        #print(array)   # testing\n",
    "        column_means = array.mean(axis=0)\n",
    "        column_means_list = column_means.tolist() \n",
    "        means_list.append(column_means_list)\n",
    "        row_means = array.mean(axis=1)\n",
    "        row_means_list = row_means.tolist()\n",
    "        means_list.append(row_means_list)\n",
    "        flattened_mean = array.mean()\n",
    "        means_list.append(flattened_mean)\n",
    "\n",
    "        columns_variance = array.var(axis=0)\n",
    "        columns_variance_list = columns_variance.tolist()\n",
    "        variance_list.append(columns_variance_list)\n",
    "        rows_variance = array.var(axis=1)\n",
    "        rows_variance_list = rows_variance.tolist()\n",
    "        variance_list.append(rows_variance_list)\n",
    "        flattened_variance = array.var()\n",
    "        variance_list.append(flattened_variance)\n",
    "\n",
    "        columns_std = array.std(axis=0)\n",
    "        columns_std_list = columns_std.tolist()\n",
    "        std_list.append(columns_std_list)\n",
    "        rows_std = array.std(axis=1)\n",
    "        rows_std_list = rows_std.tolist()\n",
    "        std_list.append(rows_std_list)\n",
    "        flattened_std = array.std()\n",
    "        std_list.append(flattened_std)\n",
    "\n",
    "        columns_max = array.max(axis=0)\n",
    "        columns_max_list = columns_max.tolist()\n",
    "        max_list.append(columns_max_list)\n",
    "        rows_max = array.max(axis=1)\n",
    "        rows_max_list = rows_max.tolist()\n",
    "        max_list.append(rows_max_list)\n",
    "        flattened_max = array.max()\n",
    "        max_list.append(flattened_max)\n",
    "\n",
    "        columns_min = array.min(axis=0)\n",
    "        columns_min_list = columns_min.tolist()\n",
    "        min_list.append(columns_min_list)\n",
    "        rows_min = array.min(axis=1)\n",
    "        rows_min_list = rows_min.tolist()\n",
    "        min_list.append(rows_min_list)\n",
    "        flattened_min = array.min()\n",
    "        min_list.append(flattened_min)\n",
    "\n",
    "        columns_sum = array.sum(axis=0)\n",
    "        columns_sum_list = columns_sum.tolist()\n",
    "        sum_list.append(columns_sum_list)\n",
    "        rows_sum = array.sum(axis=1)\n",
    "        rows_sum_list = rows_sum.tolist()\n",
    "        sum_list.append(rows_sum_list)\n",
    "        flattened_sum = array.sum()\n",
    "        sum_list.append(flattened_sum)\n",
    "\n",
    "        #print(dictionary)  # testing\n",
    "        return dictionary\n",
    "    \n",
    "    except ValueError:\n",
    "        raise ValueError('List must contain nine numbers.')"
   ]
  },
  {
   "cell_type": "code",
   "execution_count": 3,
   "metadata": {},
   "outputs": [
    {
     "data": {
      "text/plain": [
       "{'mean': [[3.0, 4.0, 5.0], [1.0, 4.0, 7.0], 4.0],\n",
       " 'variance': [[6.0, 6.0, 6.0],\n",
       "  [0.6666666666666666, 0.6666666666666666, 0.6666666666666666],\n",
       "  6.666666666666667],\n",
       " 'standard deviation': [[2.449489742783178,\n",
       "   2.449489742783178,\n",
       "   2.449489742783178],\n",
       "  [0.816496580927726, 0.816496580927726, 0.816496580927726],\n",
       "  2.581988897471611],\n",
       " 'max': [[6, 7, 8], [2, 5, 8], 8],\n",
       " 'min': [[0, 1, 2], [0, 3, 6], 0],\n",
       " 'sum': [[9, 12, 15], [3, 12, 21], 36]}"
      ]
     },
     "execution_count": 3,
     "metadata": {},
     "output_type": "execute_result"
    }
   ],
   "source": [
    "calculate([0,1,2,3,4,5,6,7,8])"
   ]
  },
  {
   "cell_type": "code",
   "execution_count": null,
   "metadata": {},
   "outputs": [],
   "source": []
  }
 ],
 "metadata": {
  "kernelspec": {
   "display_name": "Python 3.9.5 64-bit",
   "language": "python",
   "name": "python3"
  },
  "language_info": {
   "codemirror_mode": {
    "name": "ipython",
    "version": 3
   },
   "file_extension": ".py",
   "mimetype": "text/x-python",
   "name": "python",
   "nbconvert_exporter": "python",
   "pygments_lexer": "ipython3",
   "version": "3.9.5"
  },
  "orig_nbformat": 4,
  "vscode": {
   "interpreter": {
    "hash": "11938c6bc6919ae2720b4d5011047913343b08a43b18698fd82dedb0d4417594"
   }
  }
 },
 "nbformat": 4,
 "nbformat_minor": 2
}
